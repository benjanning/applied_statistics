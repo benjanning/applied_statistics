{
 "cells": [
  {
   "cell_type": "markdown",
   "metadata": {},
   "source": []
  },
  {
   "cell_type": "markdown",
   "metadata": {},
   "source": [
    "# PlantGrowth Dataset Analysis\n",
    "\n",
    "## 1. Introduction\n",
    "\n",
    "This project analyzes the PlantGrowth dataset, which investigates the effects of different treatments (control, trt1, trt2) on plant weights. The goal is to perform statistical analyses to determine if there are significant differences between the groups. The analyses include t-tests and ANOVA, supported by visualizations and detailed interpretations.\n"
   ]
  },
  {
   "cell_type": "markdown",
   "metadata": {},
   "source": []
  },
  {
   "cell_type": "markdown",
   "metadata": {},
   "source": [
    "## 2. Load and Explore the Dataset"
   ]
  },
  {
   "cell_type": "code",
   "execution_count": 8,
   "metadata": {},
   "outputs": [
    {
     "name": "stdout",
     "output_type": "stream",
     "text": [
      "Dataset Head:\n",
      "   rownames  weight group\n",
      "0         1    4.17  ctrl\n",
      "1         2    5.58  ctrl\n",
      "2         3    5.18  ctrl\n",
      "3         4    6.11  ctrl\n",
      "4         5    4.50  ctrl\n",
      "\n",
      "Dataset Info:\n",
      "<class 'pandas.core.frame.DataFrame'>\n",
      "RangeIndex: 30 entries, 0 to 29\n",
      "Data columns (total 3 columns):\n",
      " #   Column    Non-Null Count  Dtype  \n",
      "---  ------    --------------  -----  \n",
      " 0   rownames  30 non-null     int64  \n",
      " 1   weight    30 non-null     float64\n",
      " 2   group     30 non-null     object \n",
      "dtypes: float64(1), int64(1), object(1)\n",
      "memory usage: 852.0+ bytes\n",
      "None\n",
      "\n",
      "Descriptive Statistics:\n",
      "        rownames     weight\n",
      "count  30.000000  30.000000\n",
      "mean   15.500000   5.073000\n",
      "std     8.803408   0.701192\n",
      "min     1.000000   3.590000\n",
      "25%     8.250000   4.550000\n",
      "50%    15.500000   5.155000\n",
      "75%    22.750000   5.530000\n",
      "max    30.000000   6.310000\n",
      "\n",
      "Group Counts:\n",
      "group\n",
      "ctrl    10\n",
      "trt1    10\n",
      "trt2    10\n",
      "Name: count, dtype: int64\n"
     ]
    }
   ],
   "source": [
    "import pandas as pd\n",
    "import numpy as np\n",
    "import matplotlib.pyplot as plt\n",
    "import seaborn as sns\n",
    "from scipy.stats import ttest_ind, f_oneway\n",
    "\n",
    "# Load the dataset\n",
    "df = pd.read_csv('PlantGrowth.csv')\n",
    "\n",
    "# Brief description of the dataset\n",
    "print(\"Dataset Head:\")\n",
    "print(df.head())\n",
    "print(\"\\nDataset Info:\")\n",
    "print(df.info())\n",
    "\n",
    "# Summary statistics\n",
    "print(\"\\nDescriptive Statistics:\")\n",
    "print(df.describe())\n",
    "\n",
    "# Check distribution of groups\n",
    "print(\"\\nGroup Counts:\")\n",
    "print(df['group'].value_counts())\n"
   ]
  },
  {
   "cell_type": "markdown",
   "metadata": {},
   "source": [
    "## 3. Data Visualization"
   ]
  },
  {
   "cell_type": "code",
   "execution_count": 9,
   "metadata": {},
   "outputs": [
    {
     "name": "stderr",
     "output_type": "stream",
     "text": [
      "/tmp/ipykernel_5896/1112341436.py:3: FutureWarning: \n",
      "\n",
      "Passing `palette` without assigning `hue` is deprecated and will be removed in v0.14.0. Assign the `x` variable to `hue` and set `legend=False` for the same effect.\n",
      "\n",
      "  sns.boxplot(data=df, x='group', y='weight', palette='Set2')\n"
     ]
    },
    {
     "data": {
      "image/png": "[encoded data removed]",
      "text/plain": [
       "<Figure size 800x600 with 1 Axes>"
      ]
     },
     "metadata": {},
     "output_type": "display_data"
    }
   ],
   "source": [
    "# Visualize data distribution\n",
    "plt.figure(figsize=(8, 6))\n",
    "sns.boxplot(data=df, x='group', y='weight', palette='Set2')\n",
    "plt.title('Weight Distribution Across Groups')\n",
    "plt.xlabel('Group')\n",
    "plt.ylabel('Weight')\n",
    "plt.show()\n"
   ]
  },
  {
   "cell_type": "markdown",
   "metadata": {},
   "source": [
    "## 4. Explanation: T-Test"
   ]
  },
  {
   "cell_type": "markdown",
   "metadata": {},
   "source": [
    "A t-test is used to compare the means of two groups to determine if they are statistically different. [1]\n",
    "Key assumptions for a t-test include:\n",
    "1. The data follows a normal distribution.\n",
    "2. Variances between the two groups are equal.\n",
    "\n",
    "In this analysis, we perform an independent t-test to compare the weights of plants in the `trt1` and `trt2` treatment groups.\n"
   ]
  },
  {
   "cell_type": "markdown",
   "metadata": {},
   "source": [
    "## 5. Perform the T-Test\n"
   ]
  },
  {
   "cell_type": "code",
   "execution_count": 10,
   "metadata": {},
   "outputs": [
    {
     "name": "stdout",
     "output_type": "stream",
     "text": [
      "\n",
      "T-Test Results:\n",
      "T-statistic: -3.0100985421243616, P-value: 0.0075184261182198574\n",
      "\n",
      "The t-test indicates a significant difference between trt1 and trt2.\n"
     ]
    }
   ],
   "source": [
    "# Perform t-test between trt1 and trt2\n",
    "trt1 = df[df['group'] == 'trt1']['weight']\n",
    "trt2 = df[df['group'] == 'trt2']['weight']\n",
    "t_stat, p_val = ttest_ind(trt1, trt2, equal_var=True)\n",
    "\n",
    "print(\"\\nT-Test Results:\")\n",
    "print(f\"T-statistic: {t_stat}, P-value: {p_val}\")\n",
    "\n",
    "# Interpretation\n",
    "if p_val < 0.05:\n",
    "    print(\"\\nThe t-test indicates a significant difference between trt1 and trt2.\")\n",
    "else:\n",
    "    print(\"\\nThe t-test indicates no significant difference between trt1 and trt2.\")\n"
   ]
  },
  {
   "cell_type": "markdown",
   "metadata": {},
   "source": [
    "## 6. Explanation: ANOVA"
   ]
  },
  {
   "cell_type": "markdown",
   "metadata": {},
   "source": [
    "ANOVA (Analysis of Variance) is a statistical method used to test whether there are significant differences between the means of three or more groups. \n",
    "It is preferred over multiple t-tests as it reduces the risk of Type I error, which increases with repeated testing. [2]\n",
    "\n",
    "Key assumptions of ANOVA:\n",
    "1. The data in each group follows a normal distribution.\n",
    "2. Variances are equal across the groups.\n",
    "3. Observations are independent.\n",
    "\n",
    "In this analysis, we use ANOVA to compare the weights across the three groups: `ctrl`, `trt1`, and `trt2`.\n"
   ]
  },
  {
   "cell_type": "markdown",
   "metadata": {},
   "source": [
    "## 7. Perform ANOVA"
   ]
  },
  {
   "cell_type": "code",
   "execution_count": 11,
   "metadata": {},
   "outputs": [
    {
     "name": "stdout",
     "output_type": "stream",
     "text": [
      "\n",
      "ANOVA Results:\n",
      "F-statistic: 4.846087862380136, P-value: 0.0159099583256229\n",
      "\n",
      "The ANOVA test indicates significant differences among the groups.\n"
     ]
    }
   ],
   "source": [
    "# Perform ANOVA across ctrl, trt1, trt2\n",
    "ctrl = df[df['group'] == 'ctrl']['weight']\n",
    "f_stat, p_val_anova = f_oneway(ctrl, trt1, trt2)\n",
    "\n",
    "print(\"\\nANOVA Results:\")\n",
    "print(f\"F-statistic: {f_stat}, P-value: {p_val_anova}\")\n",
    "\n",
    "# Interpretation\n",
    "if p_val_anova < 0.05:\n",
    "    print(\"\\nThe ANOVA test indicates significant differences among the groups.\")\n",
    "else:\n",
    "    print(\"\\nThe ANOVA test indicates no significant differences among the groups.\")\n"
   ]
  },
  {
   "cell_type": "markdown",
   "metadata": {},
   "source": [
    "## 8. Visualize ANOVA Results"
   ]
  },
  {
   "cell_type": "code",
   "execution_count": 12,
   "metadata": {},
   "outputs": [
    {
     "name": "stderr",
     "output_type": "stream",
     "text": [
      "/tmp/ipykernel_5896/973502506.py:3: FutureWarning: \n",
      "\n",
      "Passing `palette` without assigning `hue` is deprecated and will be removed in v0.14.0. Assign the `x` variable to `hue` and set `legend=False` for the same effect.\n",
      "\n",
      "  sns.boxplot(data=df, x='group', y='weight', palette='muted')\n"
     ]
    },
    {
     "data": {
      "image/png": "[encoded data removed]",
      "text/plain": [
       "<Figure size 800x600 with 1 Axes>"
      ]
     },
     "metadata": {},
     "output_type": "display_data"
    }
   ],
   "source": [
    "# Boxplot for ANOVA results\n",
    "plt.figure(figsize=(8, 6))\n",
    "sns.boxplot(data=df, x='group', y='weight', palette='muted')\n",
    "plt.title('Group Comparison with ANOVA')\n",
    "plt.xlabel('Group')\n",
    "plt.ylabel('Weight')\n",
    "plt.show()\n"
   ]
  },
  {
   "cell_type": "markdown",
   "metadata": {},
   "source": [
    "## 9. Summary and Conclusion"
   ]
  },
  {
   "cell_type": "markdown",
   "metadata": {},
   "source": [
    "The analysis investigated the effects of three groups (`ctrl`, `trt1`, and `trt2`) on plant weights. \n",
    "\n",
    "- **T-Test Results**:\n",
    "  - The t-test comparing `trt1` and `trt2` revealed [interpret results: significant or not significant] differences in their means. \n",
    "  - This suggests [state implication, e.g., whether the treatment had an effect].\n",
    "\n",
    "- **ANOVA Results**:\n",
    "  - The ANOVA test found [interpret results: significant or not significant] differences among the groups.\n",
    "  - This indicates [state implication, e.g., whether at least one treatment differs significantly].\n",
    "\n",
    "### Recommendations\n",
    "Future studies could explore:\n",
    "1. Including more samples for increased statistical power.\n",
    "2. Investigating other factors that might affect plant growth.\n",
    "3. Applying non-parametric methods if normality assumptions are violated.\n",
    "\n",
    "The findings provide valuable insights into the effects of treatments on plant growth and highlight the importance of rigorous statistical analysis.\n"
   ]
  },
  {
   "cell_type": "markdown",
   "metadata": {},
   "source": [
    "## References\n",
    "[1] Fisher, R. A. (1935). The Design of Experiments. Edinburgh: Oliver and Boyd.  \n",
    "[2] Dobson, A. J. (1983). An Introduction to Statistical Modelling. London: Chapman and Hall.\n"
   ]
  },
  {
   "cell_type": "markdown",
   "metadata": {},
   "source": []
  }
 ],
 "metadata": {
  "kernelspec": {
   "display_name": "Python 3",
   "language": "python",
   "name": "python3"
  },
  "language_info": {
   "codemirror_mode": {
    "name": "ipython",
    "version": 3
   },
   "file_extension": ".py",
   "mimetype": "text/x-python",
   "name": "python",
   "nbconvert_exporter": "python",
   "pygments_lexer": "ipython3",
   "version": "3.12.1"
  }
 },
 "nbformat": 4,
 "nbformat_minor": 2
}
