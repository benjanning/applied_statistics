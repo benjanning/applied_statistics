{
 "cells": [
  {
   "cell_type": "markdown",
   "metadata": {},
   "source": [
    "# Tasks"
   ]
  },
  {
   "cell_type": "markdown",
   "metadata": {},
   "source": [
    "## Task 1: Permutations and Combinations\n"
   ]
  },
  {
   "cell_type": "markdown",
   "metadata": {},
   "source": [
    "In this notebook, we'll explore a modified version of the famous Lady Tasting Tea experiment, originally designed by Sir Ronald Fisher [1]. We'll use the approach demonstrated in the lecture, applying it to our scenario with twelve cups of tea instead of eight. This problem also draws from David Salsburg's popular explanation of how statistics revolutionized science [2].\n",
    "\n",
    "### Task:  \n",
    "\n",
    "Suppose we alter the Lady Tasting Tea experiment to involve twelve cups of tea. Six have the milk in first and the other six having tea in first. A person claims they have the special power of being able to tell whether the tea or the milk went into a cup first upon tasting it. You agree to accept their claim if they can tell which of the six cups in your experiment had the milk in first.\n",
    "\n",
    "Calculate, using Python, the probability that they select the correct six cups. Here you should assume that they have no special powers in figuring it out, that they are just guessing. Remember to show and justify your workings in code and MarkDown cells.\n",
    "\n",
    "Suppose, now, you are willing to accept one error. Once they select the six cups they think had the milk in first, you will give them the benefit of the doubt should they have selected at least five of the correct cups. Calculate the probability, assuming they have no special powers, that the person makes at most one error.\n",
    "\n",
    "Would you accept two errors? Explain."
   ]
  },
  {
   "cell_type": "markdown",
   "metadata": {},
   "source": [
    "### Setup"
   ]
  },
  {
   "cell_type": "code",
   "execution_count": 18,
   "metadata": {},
   "outputs": [],
   "source": [
    "# Mathematical functions from the standard library.\n",
    "import math\n",
    "\n",
    "# Permutations and combinations.\n",
    "import itertools\n",
    "\n",
    "# Random selections.\n",
    "import random\n",
    "\n",
    "# Numerical structures and operations.\n",
    "import numpy as np\n",
    "\n",
    "# Plotting.\n",
    "import matplotlib.pyplot as plt\n",
    "\n",
    "# Total number of cups\n",
    "no_cups = 12\n",
    "# Number of cups with milk first\n",
    "no_cups_milk_first = 6"
   ]
  },
  {
   "cell_type": "markdown",
   "metadata": {},
   "source": [
    "### Calculating Combinations\n",
    "\n",
    "Let's calculate the number of ways to choose the milk-first cups, using the math.comb() function:"
   ]
  },
  {
   "cell_type": "code",
   "execution_count": 19,
   "metadata": {},
   "outputs": [
    {
     "name": "stdout",
     "output_type": "stream",
     "text": [
      "Number of ways to select 6 cups from 12: 924\n"
     ]
    }
   ],
   "source": [
    "# Number of ways of selecting six cups from twelve.\n",
    "ways = math.comb(no_cups, no_cups_milk_first)\n",
    "\n",
    "print(f\"Number of ways to select {no_cups_milk_first} cups from {no_cups}: {ways}\")"
   ]
  },
  {
   "cell_type": "markdown",
   "metadata": {},
   "source": [
    "### Generating All Possible Combinations\n",
    "\n",
    "Now, let's generate all possible combinations, similar to the approach in the lecture:"
   ]
  },
  {
   "cell_type": "code",
   "execution_count": 20,
   "metadata": {},
   "outputs": [
    {
     "name": "stdout",
     "output_type": "stream",
     "text": [
      "First 5 combinations: [(0, 1, 2, 3, 4, 5), (0, 1, 2, 3, 4, 6), (0, 1, 2, 3, 4, 7), (0, 1, 2, 3, 4, 8), (0, 1, 2, 3, 4, 9)]\n",
      "Total number of combinations: 924\n"
     ]
    }
   ],
   "source": [
    "# The cup labels.\n",
    "labels = list(range(no_cups))\n",
    "\n",
    "# Show all the different ways of selecting no_cups_milk_first out of no_cups cups of tea.\n",
    "combs = list(itertools.combinations(labels, no_cups_milk_first))\n",
    "\n",
    "print(f\"First 5 combinations: {combs[:5]}\")\n",
    "print(f\"Total number of combinations: {len(combs)}\")"
   ]
  },
  {
   "cell_type": "markdown",
   "metadata": {},
   "source": [
    "This confirms our calculation and shows us what the combinations look like."
   ]
  },
  {
   "cell_type": "markdown",
   "metadata": {},
   "source": [
    "### Simulating the Experiment\n",
    "\n",
    "Let's simulate the experiment by randomly selecting cups, as done in the lecture:"
   ]
  },
  {
   "cell_type": "code",
   "execution_count": 21,
   "metadata": {},
   "outputs": [
    {
     "name": "stdout",
     "output_type": "stream",
     "text": [
      "Randomly selected cups with milk first: [0, 1, 3, 4, 8, 9]\n"
     ]
    }
   ],
   "source": [
    "# Select six cups at random to put milk in first.\n",
    "labels_milk = random.sample(labels, no_cups_milk_first)\n",
    "\n",
    "# Sort, inplace.\n",
    "labels_milk.sort()\n",
    "\n",
    "print(f\"Randomly selected cups with milk first: {labels_milk}\")"
   ]
  },
  {
   "cell_type": "markdown",
   "metadata": {},
   "source": [
    "This represents our \"true\" setup for the experiment - these are the cups that actually have milk added first."
   ]
  },
  {
   "cell_type": "markdown",
   "metadata": {},
   "source": [
    "### Calculating Overlaps\n",
    "\n",
    "Now, let's calculate the overlaps between each possible combination and our \"true\" setup:"
   ]
  },
  {
   "cell_type": "code",
   "execution_count": 22,
   "metadata": {},
   "outputs": [
    {
     "name": "stdout",
     "output_type": "stream",
     "text": [
      "Number of correct guesses : Frequency\n",
      "0 : 1\n",
      "1 : 36\n",
      "2 : 225\n",
      "3 : 400\n",
      "4 : 225\n",
      "5 : 36\n",
      "6 : 1\n"
     ]
    }
   ],
   "source": [
    "# Calculate the overlap between each element of combs and labels_milk.\n",
    "no_overlaps = []\n",
    "\n",
    "for comb in combs:\n",
    "    # Turn comb and labels_milk into sets.\n",
    "    s1 = set(comb)\n",
    "    s2 = set(labels_milk)\n",
    "    # Figure out where they overlap.\n",
    "    overlap = s1.intersection(s2)\n",
    "    # Append overlap to no_overlaps.\n",
    "    no_overlaps.append(len(overlap))\n",
    "\n",
    "# Count the number of times each overlap occurs.\n",
    "unique, counts = np.unique(no_overlaps, return_counts=True)\n",
    "\n",
    "print(\"Number of correct guesses : Frequency\")\n",
    "for u, c in zip(unique, counts):\n",
    "    print(f\"{u} : {c}\")"
   ]
  },
  {
   "cell_type": "markdown",
   "metadata": {},
   "source": [
    "### Visualizing the Results"
   ]
  },
  {
   "cell_type": "code",
   "execution_count": 23,
   "metadata": {},
   "outputs": [
    {
     "data": {
      "image/png": "[encoded data removed]",
      "text/plain": [
       "<Figure size 1000x600 with 1 Axes>"
      ]
     },
     "metadata": {},
     "output_type": "display_data"
    }
   ],
   "source": [
    "fig, ax = plt.subplots(figsize=(10, 6))\n",
    "ax.bar(unique, counts)\n",
    "ax.set_xlabel('Number of Correct Guesses')\n",
    "ax.set_ylabel('Frequency')\n",
    "ax.set_title('Distribution of Correct Guesses in Lady Tasting Tea Experiment')\n",
    "plt.show()"
   ]
  },
  {
   "cell_type": "markdown",
   "metadata": {},
   "source": [
    "### Calculating Probabilities\n",
    "\n",
    "Let's calculate the probabilities of different outcomes:"
   ]
  },
  {
   "cell_type": "code",
   "execution_count": 24,
   "metadata": {},
   "outputs": [
    {
     "name": "stdout",
     "output_type": "stream",
     "text": [
      "Probability of guessing all 6 correctly: 0.001082\n",
      "Probability of guessing at least 5 correctly: 0.040043\n",
      "Probability of guessing at least 4 correctly: 0.283550\n"
     ]
    }
   ],
   "source": [
    "total_combinations = sum(counts)\n",
    "\n",
    "print(f\"Probability of guessing all 6 correctly: {1 / total_combinations:.6f}\")\n",
    "print(f\"Probability of guessing at least 5 correctly: {(counts[-1] + counts[-2]) / total_combinations:.6f}\")\n",
    "print(f\"Probability of guessing at least 4 correctly: {sum(counts[-3:]) / total_combinations:.6f}\")"
   ]
  },
  {
   "cell_type": "markdown",
   "metadata": {},
   "source": [
    "### Interpretation and Conclusion\n",
    "\n",
    "1. The probability of guessing all 6 cups correctly is very low (about 0.1%), which aligns with our earlier calculation using math.comb().\n",
    "\n",
    "2. The probability of guessing at least 5 correctly is about 4%, which is still quite low. If someone achieved this level of accuracy, it would be surprising if they were guessing randomly.\n",
    "\n",
    "3. The probability of guessing at least 4 correctly is about 28.4%. This is much higher and could more reasonably occur by chance.\n",
    "\n",
    "These results demonstrate how increasing the number of cups from 8 to 12 affects the probabilities. It becomes even more unlikely to guess all cups correctly by chance, but also more likely to guess a majority correctly just by luck.\n",
    "As in Fisher's original experiment, this analysis helps us quantify how surprised we should be by different outcomes, forming the basis for statistical decision-making."
   ]
  },
  {
   "cell_type": "markdown",
   "metadata": {},
   "source": [
    "## Task 2: numpy's Normal Distribution"
   ]
  },
  {
   "cell_type": "markdown",
   "metadata": {},
   "source": [
    "For Task 2; we assess whether numpy.random.normal() accurately generates normally distributed values. This includes generating a large sample, testing it statistically, and inspecting it visually."
   ]
  },
  {
   "cell_type": "markdown",
   "metadata": {},
   "source": [
    "### Task:\n",
    "\n",
    "In this task you will assess whether numpy.random.normal() properly generates normal values. To begin, generate a sample of one hundred thousand values using the function with mean 10.0 and standard deviation 3.0.\n",
    "\n",
    "Use the scipy.stats.shapiro() function to test whether your sample came from a normal distribution. Explain the results and output.\n",
    "\n",
    "Plot a histogram of your values and plot the corresponding normal distribution probability density function on top of it."
   ]
  },
  {
   "cell_type": "markdown",
   "metadata": {},
   "source": [
    "### Step 1: Importing Libraries\n",
    "\n",
    "First, we import the necessary libraries:\n",
    "\n",
    "- Numpy for generating the sample data.\n",
    "- Matplotlib for plotting visualizations.\n",
    "- Scipy for statistical testing.\n",
    "These tools will help us analyze and visualize the normality of the generated sample."
   ]
  },
  {
   "cell_type": "code",
   "execution_count": 25,
   "metadata": {},
   "outputs": [],
   "source": [
    "import numpy as np\n",
    "import matplotlib.pyplot as plt\n",
    "import scipy.stats as stats\n"
   ]
  },
  {
   "cell_type": "markdown",
   "metadata": {},
   "source": [
    "### Step 2: Generating the Sample\n",
    "\n",
    "We generate a sample with a mean (\n",
    "𝜇\n",
    "μ) of 10, a standard deviation (\n",
    "𝜎\n",
    "σ) of 3, and a size of 100,000 values. This large sample size gives us a reliable distribution for analysis.\n",
    "\n",
    "We also set a random seed to ensure that the results are reproducible."
   ]
  },
  {
   "cell_type": "code",
   "execution_count": 26,
   "metadata": {},
   "outputs": [],
   "source": [
    "# Setting parameters\n",
    "np.random.seed(42)  # for reproducibility\n",
    "mean, std, size = 10.0, 3.0, 100000\n",
    "data = np.random.normal(loc=mean, scale=std, size=size)\n"
   ]
  },
  {
   "cell_type": "markdown",
   "metadata": {},
   "source": [
    "### Step 3: Basic Statistics\n",
    "\n",
    "To validate our sample, we calculate its mean and standard deviation. These values should ideally be close to the parameters we specified ( 𝜇 = 10 μ=10 and 𝜎 = 3 σ=3).\n",
    "\n",
    "Explanation:\n",
    "\n",
    "- The mean and standard deviation should closely match the values we set. Small deviations are normal due to the randomness in data generation, but large discrepancies might indicate issues with the sample generation process."
   ]
  },
  {
   "cell_type": "code",
   "execution_count": 27,
   "metadata": {},
   "outputs": [
    {
     "name": "stdout",
     "output_type": "stream",
     "text": [
      "### Basic Statistics of the Generated Sample\n",
      "Sample Mean: 10.0029 (Expected: 10.0)\n",
      "Sample Std Dev: 3.0027 (Expected: 3.0)\n"
     ]
    }
   ],
   "source": [
    "print(\"### Basic Statistics of the Generated Sample\")\n",
    "print(f\"Sample Mean: {np.mean(data):.4f} (Expected: 10.0)\")\n",
    "print(f\"Sample Std Dev: {np.std(data):.4f} (Expected: 3.0)\")\n"
   ]
  },
  {
   "cell_type": "markdown",
   "metadata": {},
   "source": [
    "### Step 4: Shapiro-Wilk Test for Normality\n",
    "\n",
    "The Shapiro-Wilk test is a formal statistical test that checks if a dataset follows a normal distribution. Here:\n",
    "\n",
    "- The null hypothesis (H0) states that the sample is normally distributed.\n",
    "- A p-value greater than 0.05 indicates that we do not reject H0, suggesting the sample is likely normal.\n",
    "\n",
    "Explanation:\n",
    "\n",
    "- For very large samples, the test might issue a warning due to its sensitivity at high values (N > 5000). Nonetheless, a high p-value and a test statistic close to 1 indicate that our sample is likely normal. (SciPy Documentation, 2023)."
   ]
  },
  {
   "cell_type": "code",
   "execution_count": 28,
   "metadata": {},
   "outputs": [
    {
     "name": "stdout",
     "output_type": "stream",
     "text": [
      "\n",
      "### Shapiro-Wilk Test Results\n",
      "Test Statistic: 0.999991\n",
      "p-value: 0.999830\n",
      "Interpretation: Fail to reject the null hypothesis; the sample appears to follow a normal distribution.\n"
     ]
    }
   ],
   "source": [
    "# Perform the Shapiro-Wilk test\n",
    "stat, p_value = stats.shapiro(data)\n",
    "print(\"\\n### Shapiro-Wilk Test Results\")\n",
    "print(f\"Test Statistic: {stat:.6f}\")\n",
    "print(f\"p-value: {p_value:.6f}\")\n",
    "\n",
    "# Interpretation\n",
    "if p_value > 0.05:\n",
    "    print(\"Interpretation: Fail to reject the null hypothesis; the sample appears to follow a normal distribution.\")\n",
    "else:\n",
    "    print(\"Interpretation: Reject the null hypothesis; the sample may not follow a normal distribution.\")\n"
   ]
  },
  {
   "cell_type": "markdown",
   "metadata": {},
   "source": [
    "### Step 5: Visual Inspection - Histogram and PDF Overlay\n",
    "\n",
    "To visually confirm the sample’s normality, we plot a histogram of the generated data. Additionally, we overlay the theoretical normal distribution’s probability density function (PDF) with the same mean and standard deviation as our sample.\n",
    "\n",
    "The probability density function (PDF) for a normal distribution is a mathematical expression that defines the likelihood of different values in a dataset. When sample data is approximately normal, it should align closely with the PDF curve, providing a visual and statistical confirmation of normality.  (Weisstein, 2023).\n",
    "\n",
    "Explanation:\n",
    "\n",
    "- The histogram should resemble the bell shape of the theoretical PDF line if the sample is normally distributed.\n",
    "- Visual inspection complements the statistical test, giving us confidence in the normality of the sample."
   ]
  },
  {
   "cell_type": "code",
   "execution_count": 29,
   "metadata": {},
   "outputs": [
    {
     "data": {
      "image/png": "[encoded data removed]",
      "text/plain": [
       "<Figure size 1000x600 with 1 Axes>"
      ]
     },
     "metadata": {},
     "output_type": "display_data"
    }
   ],
   "source": [
    "fig, ax = plt.subplots(figsize=(10, 6))\n",
    "\n",
    "# Plot the histogram of the sample\n",
    "ax.hist(data, bins=50, density=True, alpha=0.7, color='skyblue', edgecolor='black', label='Sample Distribution')\n",
    "\n",
    "# Overlay the theoretical normal PDF\n",
    "x = np.linspace(data.min(), data.max(), 1000)\n",
    "pdf = stats.norm.pdf(x, loc=10.0, scale=3.0)\n",
    "ax.plot(x, pdf, 'r-', lw=2, label='Normal PDF')\n",
    "\n",
    "# Formatting the plot\n",
    "ax.set_title('Generated Sample vs Normal PDF')\n",
    "ax.set_xlabel('Value')\n",
    "ax.set_ylabel('Density')\n",
    "ax.legend()\n",
    "ax.grid(True, alpha=0.3)\n",
    "plt.show()\n"
   ]
  },
  {
   "cell_type": "markdown",
   "metadata": {},
   "source": [
    "### Summary and Interpretation\n",
    "The results from both statistical and visual inspections indicate that:\n",
    "\n",
    "- The sample’s mean and standard deviation closely match our expectations, aligning with the normal distribution parameters we set.\n",
    "- The Shapiro-Wilk test’s high p-value suggests that the data likely follows a normal distribution.\n",
    "- The histogram and theoretical PDF overlay confirm that the sample data shape visually resembles a normal distribution.\n",
    "\n",
    "Together, these results confirm that numpy.random.normal() produces values that follow a normal distribution, validating its reliability for simulating normally distributed data."
   ]
  },
  {
   "cell_type": "markdown",
   "metadata": {},
   "source": []
  },
  {
   "cell_type": "markdown",
   "metadata": {},
   "source": [
    "## Task 3: t-Test Calculation"
   ]
  },
  {
   "cell_type": "markdown",
   "metadata": {},
   "source": [
    "## Task 4: ANOVA"
   ]
  },
  {
   "cell_type": "markdown",
   "metadata": {},
   "source": [
    "## References\n",
    "\n",
    "[1] Fisher, R. A. (1935). The Design of Experiments. Edinburgh: Oliver and Boyd.\n",
    "\n",
    "[2] Salsburg, D. (2001). The Lady Tasting Tea: How Statistics Revolutionized Science in the Twentieth Century. New York: W. H. Freeman.\n",
    "\n",
    "[3] SciPy Documentation. (2023). Shapiro-Wilk Test. Available at: https://docs.scipy.org/doc/scipy/reference/generated/scipy.stats.shapiro.html\n",
    "\n",
    "[4] Weisstein, E. W. (2023). Normal Distribution. MathWorld – A Wolfram Web Resource. Available at: https://mathworld.wolfram.com/NormalDistribution.html\n"
   ]
  },
  {
   "cell_type": "markdown",
   "metadata": {},
   "source": []
  }
 ],
 "metadata": {
  "kernelspec": {
   "display_name": "Python 3",
   "language": "python",
   "name": "python3"
  },
  "language_info": {
   "codemirror_mode": {
    "name": "ipython",
    "version": 3
   },
   "file_extension": ".py",
   "mimetype": "text/x-python",
   "name": "python",
   "nbconvert_exporter": "python",
   "pygments_lexer": "ipython3",
   "version": "3.12.1"
  }
 },
 "nbformat": 4,
 "nbformat_minor": 2
}
