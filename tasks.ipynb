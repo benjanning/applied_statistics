{
 "cells": [
  {
   "cell_type": "markdown",
   "metadata": {},
   "source": [
    "# Tasks"
   ]
  },
  {
   "cell_type": "markdown",
   "metadata": {},
   "source": [
    "## Task 1: Permutations and Combinations\n"
   ]
  },
  {
   "cell_type": "markdown",
   "metadata": {},
   "source": [
    "In this notebook, we'll explore a modified version of the famous Lady Tasting Tea experiment, originally designed by Sir Ronald Fisher. We'll use the approach demonstrated in the lecture, applying it to our scenario with twelve cups of tea instead of eight.\n",
    "\n",
    "### Task:  \n",
    "\n",
    "Suppose we alter the Lady Tasting Tea experiment to involve twelve cups of tea. Six have the milk in first and the other six having tea in first. A person claims they have the special power of being able to tell whether the tea or the milk went into a cup first upon tasting it. You agree to accept their claim if they can tell which of the six cups in your experiment had the milk in first.\n",
    "\n",
    "Calculate, using Python, the probability that they select the correct six cups. Here you should assume that they have no special powers in figuring it out, that they are just guessing. Remember to show and justify your workings in code and MarkDown cells.\n",
    "\n",
    "Suppose, now, you are willing to accept one error. Once they select the six cups they think had the milk in first, you will give them the benefit of the doubt should they have selected at least five of the correct cups. Calculate the probability, assuming they have no special powers, that the person makes at most one error.\n",
    "\n",
    "Would you accept two errors? Explain."
   ]
  },
  {
   "cell_type": "markdown",
   "metadata": {},
   "source": [
    "### Setup"
   ]
  },
  {
   "cell_type": "code",
   "execution_count": 9,
   "metadata": {},
   "outputs": [],
   "source": [
    "# Mathematical functions from the standard library.\n",
    "import math\n",
    "\n",
    "# Permutations and combinations.\n",
    "import itertools\n",
    "\n",
    "# Random selections.\n",
    "import random\n",
    "\n",
    "# Numerical structures and operations.\n",
    "import numpy as np\n",
    "\n",
    "# Plotting.\n",
    "import matplotlib.pyplot as plt\n",
    "\n",
    "# Total number of cups\n",
    "no_cups = 12\n",
    "# Number of cups with milk first\n",
    "no_cups_milk_first = 6"
   ]
  },
  {
   "cell_type": "markdown",
   "metadata": {},
   "source": [
    "### Calculating Combinations\n",
    "\n",
    "Let's calculate the number of ways to choose the milk-first cups, using the math.comb() function:"
   ]
  },
  {
   "cell_type": "code",
   "execution_count": 10,
   "metadata": {},
   "outputs": [
    {
     "name": "stdout",
     "output_type": "stream",
     "text": [
      "Number of ways to select 6 cups from 12: 924\n"
     ]
    }
   ],
   "source": [
    "# Number of ways of selecting six cups from twelve.\n",
    "ways = math.comb(no_cups, no_cups_milk_first)\n",
    "\n",
    "print(f\"Number of ways to select {no_cups_milk_first} cups from {no_cups}: {ways}\")"
   ]
  },
  {
   "cell_type": "markdown",
   "metadata": {},
   "source": [
    "### Generating All Possible Combinations\n",
    "\n",
    "Now, let's generate all possible combinations, similar to the approach in the lecture:"
   ]
  },
  {
   "cell_type": "code",
   "execution_count": 11,
   "metadata": {},
   "outputs": [
    {
     "name": "stdout",
     "output_type": "stream",
     "text": [
      "First 5 combinations: [(0, 1, 2, 3, 4, 5), (0, 1, 2, 3, 4, 6), (0, 1, 2, 3, 4, 7), (0, 1, 2, 3, 4, 8), (0, 1, 2, 3, 4, 9)]\n",
      "Total number of combinations: 924\n"
     ]
    }
   ],
   "source": [
    "# The cup labels.\n",
    "labels = list(range(no_cups))\n",
    "\n",
    "# Show all the different ways of selecting no_cups_milk_first out of no_cups cups of tea.\n",
    "combs = list(itertools.combinations(labels, no_cups_milk_first))\n",
    "\n",
    "print(f\"First 5 combinations: {combs[:5]}\")\n",
    "print(f\"Total number of combinations: {len(combs)}\")"
   ]
  },
  {
   "cell_type": "markdown",
   "metadata": {},
   "source": [
    "This confirms our calculation and shows us what the combinations look like."
   ]
  },
  {
   "cell_type": "markdown",
   "metadata": {},
   "source": [
    "### Simulating the Experiment\n",
    "\n",
    "Let's simulate the experiment by randomly selecting cups, as done in the lecture:"
   ]
  },
  {
   "cell_type": "code",
   "execution_count": 12,
   "metadata": {},
   "outputs": [
    {
     "name": "stdout",
     "output_type": "stream",
     "text": [
      "Randomly selected cups with milk first: [0, 3, 4, 5, 6, 8]\n"
     ]
    }
   ],
   "source": [
    "# Select six cups at random to put milk in first.\n",
    "labels_milk = random.sample(labels, no_cups_milk_first)\n",
    "\n",
    "# Sort, inplace.\n",
    "labels_milk.sort()\n",
    "\n",
    "print(f\"Randomly selected cups with milk first: {labels_milk}\")"
   ]
  },
  {
   "cell_type": "markdown",
   "metadata": {},
   "source": [
    "This represents our \"true\" setup for the experiment - these are the cups that actually have milk added first."
   ]
  },
  {
   "cell_type": "markdown",
   "metadata": {},
   "source": [
    "### Calculating Overlaps\n",
    "\n",
    "Now, let's calculate the overlaps between each possible combination and our \"true\" setup:"
   ]
  },
  {
   "cell_type": "code",
   "execution_count": 13,
   "metadata": {},
   "outputs": [
    {
     "name": "stdout",
     "output_type": "stream",
     "text": [
      "Number of correct guesses : Frequency\n",
      "0 : 1\n",
      "1 : 36\n",
      "2 : 225\n",
      "3 : 400\n",
      "4 : 225\n",
      "5 : 36\n",
      "6 : 1\n"
     ]
    }
   ],
   "source": [
    "# Calculate the overlap between each element of combs and labels_milk.\n",
    "no_overlaps = []\n",
    "\n",
    "for comb in combs:\n",
    "    # Turn comb and labels_milk into sets.\n",
    "    s1 = set(comb)\n",
    "    s2 = set(labels_milk)\n",
    "    # Figure out where they overlap.\n",
    "    overlap = s1.intersection(s2)\n",
    "    # Append overlap to no_overlaps.\n",
    "    no_overlaps.append(len(overlap))\n",
    "\n",
    "# Count the number of times each overlap occurs.\n",
    "unique, counts = np.unique(no_overlaps, return_counts=True)\n",
    "\n",
    "print(\"Number of correct guesses : Frequency\")\n",
    "for u, c in zip(unique, counts):\n",
    "    print(f\"{u} : {c}\")"
   ]
  },
  {
   "cell_type": "markdown",
   "metadata": {},
   "source": [
    "### Visualizing the Results"
   ]
  },
  {
   "cell_type": "code",
   "execution_count": 14,
   "metadata": {},
   "outputs": [
    {
     "data": {
      "image/png": "[encoded data removed]",
      "text/plain": [
       "<Figure size 1000x600 with 1 Axes>"
      ]
     },
     "metadata": {},
     "output_type": "display_data"
    }
   ],
   "source": [
    "fig, ax = plt.subplots(figsize=(10, 6))\n",
    "ax.bar(unique, counts)\n",
    "ax.set_xlabel('Number of Correct Guesses')\n",
    "ax.set_ylabel('Frequency')\n",
    "ax.set_title('Distribution of Correct Guesses in Lady Tasting Tea Experiment')\n",
    "plt.show()"
   ]
  },
  {
   "cell_type": "markdown",
   "metadata": {},
   "source": [
    "### Calculating Probabilities\n",
    "\n",
    "Let's calculate the probabilities of different outcomes:"
   ]
  },
  {
   "cell_type": "code",
   "execution_count": 15,
   "metadata": {},
   "outputs": [
    {
     "name": "stdout",
     "output_type": "stream",
     "text": [
      "Probability of guessing all 6 correctly: 0.001082\n",
      "Probability of guessing at least 5 correctly: 0.040043\n",
      "Probability of guessing at least 4 correctly: 0.283550\n"
     ]
    }
   ],
   "source": [
    "total_combinations = sum(counts)\n",
    "\n",
    "print(f\"Probability of guessing all 6 correctly: {1 / total_combinations:.6f}\")\n",
    "print(f\"Probability of guessing at least 5 correctly: {(counts[-1] + counts[-2]) / total_combinations:.6f}\")\n",
    "print(f\"Probability of guessing at least 4 correctly: {sum(counts[-3:]) / total_combinations:.6f}\")"
   ]
  },
  {
   "cell_type": "markdown",
   "metadata": {},
   "source": [
    "### Interpretation and Conclusion\n",
    "\n",
    "1. The probability of guessing all 6 cups correctly is very low (about 0.1%), which aligns with our earlier calculation using math.comb().\n",
    "\n",
    "2. The probability of guessing at least 5 correctly is about 4%, which is still quite low. If someone achieved this level of accuracy, it would be surprising if they were guessing randomly.\n",
    "\n",
    "3. The probability of guessing at least 4 correctly is about 28.4%. This is much higher and could more reasonably occur by chance.\n",
    "\n",
    "These results demonstrate how increasing the number of cups from 8 to 12 affects the probabilities. It becomes even more unlikely to guess all cups correctly by chance, but also more likely to guess a majority correctly just by luck.\n",
    "As in Fisher's original experiment, this analysis helps us quantify how surprised we should be by different outcomes, forming the basis for statistical decision-making."
   ]
  },
  {
   "cell_type": "markdown",
   "metadata": {},
   "source": [
    "## Task 2: numpy's Normal Distribution"
   ]
  },
  {
   "cell_type": "code",
   "execution_count": null,
   "metadata": {},
   "outputs": [],
   "source": []
  },
  {
   "cell_type": "markdown",
   "metadata": {},
   "source": [
    "## Task 3: t-Test Calculation"
   ]
  },
  {
   "cell_type": "markdown",
   "metadata": {},
   "source": [
    "## Task 4: ANOVA"
   ]
  },
  {
   "cell_type": "markdown",
   "metadata": {},
   "source": [
    "## References\n",
    "\n",
    "[1] Fisher, R. A. (1935). The Design of Experiments. Edinburgh: Oliver and Boyd.\n",
    "\n",
    "[2] Salsburg, D. (2001). The Lady Tasting Tea: How Statistics Revolutionized Science in the Twentieth Century. New York: W. H. Freeman."
   ]
  },
  {
   "cell_type": "markdown",
   "metadata": {},
   "source": []
  }
 ],
 "metadata": {
  "kernelspec": {
   "display_name": "Python 3",
   "language": "python",
   "name": "python3"
  },
  "language_info": {
   "codemirror_mode": {
    "name": "ipython",
    "version": 3
   },
   "file_extension": ".py",
   "mimetype": "text/x-python",
   "name": "python",
   "nbconvert_exporter": "python",
   "pygments_lexer": "ipython3",
   "version": "3.12.1"
  }
 },
 "nbformat": 4,
 "nbformat_minor": 2
}
